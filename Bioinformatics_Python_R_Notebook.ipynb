{
  "cells": [
    {
      "attachments": {},
      "cell_type": "markdown",
      "metadata": {
        "id": "uZllGggJr14d"
      },
      "source": [
        "# Bioinformatics Python/R Notebook\n",
        "---\n",
        "\n",
        "There is no clear consensus regarding which programming language is optimal for use in bioinformatics based applications. There are a plethora of \"R or Python?\" type questions found ubiquitously positioned on many various places on the web. The most common answers usually include \"it depends\" or \"they're both good at specific things.\" \n",
        "\n",
        "Jupyter notebooks are touted as a great environment to build interactive data analyses. Google Colaboratory is a place where you can run these notebooks online and collaborate with others. However, their native environment for R doesn't allow for the mounting of data via a Google Drive. This makes the such a collaboration difficult in some instances.\n",
        "\n",
        "This notebook is meant to be a place to experiment with R and Python in the same notebook using some syntactical \"*magic*.\" It can easily be shared amongst people for collaborative work, but sometimes things tend to get broken. Because of this I will be storing a \"master\" copy on GitHub.\n",
        "<br>\n",
        "\n",
        "---"
      ]
    },
    {
      "attachments": {},
      "cell_type": "markdown",
      "metadata": {
        "id": "uQatd_0gA5zB"
      },
      "source": [
        "#### Let's get started.\n",
        "<br>\n",
        "\n",
        "First we need to import a slightly older version of the ```rpy2``` library as the current versions tend to have some known problems:"
      ]
    },
    {
      "cell_type": "code",
      "execution_count": null,
      "metadata": {
        "id": "R2ygbhSyrzDK"
      },
      "outputs": [],
      "source": []
    },
    {
      "cell_type": "code",
      "execution_count": 2,
      "metadata": {
        "colab": {
          "base_uri": "https://localhost:8080/"
        },
        "id": "AOXxqy8YWJVK",
        "outputId": "1575cdec-ca15-43bb-820e-bd4cc95a2ff0"
      },
      "outputs": [
        {
          "name": "stdout",
          "output_type": "stream",
          "text": [
            "Looking in indexes: https://pypi.org/simple, https://us-python.pkg.dev/colab-wheels/public/simple/\n",
            "Requirement already satisfied: rpy2==3.5.1 in /usr/local/lib/python3.10/dist-packages (3.5.1)\n",
            "Requirement already satisfied: cffi>=1.10.0 in /usr/local/lib/python3.10/dist-packages (from rpy2==3.5.1) (1.15.1)\n",
            "Requirement already satisfied: jinja2 in /usr/local/lib/python3.10/dist-packages (from rpy2==3.5.1) (3.1.2)\n",
            "Requirement already satisfied: pytz in /usr/local/lib/python3.10/dist-packages (from rpy2==3.5.1) (2022.7.1)\n",
            "Requirement already satisfied: tzlocal in /usr/local/lib/python3.10/dist-packages (from rpy2==3.5.1) (4.3)\n",
            "Requirement already satisfied: pycparser in /usr/local/lib/python3.10/dist-packages (from cffi>=1.10.0->rpy2==3.5.1) (2.21)\n",
            "Requirement already satisfied: MarkupSafe>=2.0 in /usr/local/lib/python3.10/dist-packages (from jinja2->rpy2==3.5.1) (2.1.2)\n",
            "Requirement already satisfied: pytz-deprecation-shim in /usr/local/lib/python3.10/dist-packages (from tzlocal->rpy2==3.5.1) (0.1.0.post0)\n",
            "Requirement already satisfied: tzdata in /usr/local/lib/python3.10/dist-packages (from pytz-deprecation-shim->tzlocal->rpy2==3.5.1) (2023.3)\n"
          ]
        }
      ],
      "source": [
        "#importing 3.5.1 to avoid errors\n",
        "!pip install rpy2==3.5.1\n",
        "\n",
        "%load_ext rpy2.ipython"
      ]
    },
    {
      "attachments": {},
      "cell_type": "markdown",
      "metadata": {
        "id": "4tnhts2Er0sB"
      },
      "source": [
        "#### Now that we have our module installed we can utilize some commands to run R code:\n",
        "\n",
        "1. ```%%R``` - runs R within a cell, but it must be the first thing in the cell that you write.\n",
        "2. ```%R``` - runs a single line of R.\n",
        "\n",
        "The code below should add 2 + 3, in R and \"print\" the result:"
      ]
    },
    {
      "cell_type": "code",
      "execution_count": 16,
      "metadata": {
        "colab": {
          "base_uri": "https://localhost:8080/"
        },
        "id": "21WM868cybAN",
        "outputId": "4a50c6f2-0f2e-48ea-8cfd-b3eb648428cd"
      },
      "outputs": [
        {
          "name": "stdout",
          "output_type": "stream",
          "text": [
            "[1] 5\n"
          ]
        }
      ],
      "source": [
        "%%R\n",
        "x <- 2 + 3\n",
        "print(x)"
      ]
    },
    {
      "attachments": {},
      "cell_type": "markdown",
      "metadata": {
        "id": "bqzHtUlSy4FX"
      },
      "source": [
        "Great! as you can see, the code worked and the output is shown when clicking the play button. \n",
        "\n",
        "Let's try the single line syntax:"
      ]
    },
    {
      "cell_type": "code",
      "execution_count": 22,
      "metadata": {
        "colab": {
          "base_uri": "https://localhost:8080/"
        },
        "id": "e2RQ9_kxzHo-",
        "outputId": "a173074f-5be7-4059-bf8a-4aa862b56be6"
      },
      "outputs": [
        {
          "name": "stdout",
          "output_type": "stream",
          "text": [
            "[1] \"dog\"\n",
            "\n"
          ]
        }
      ],
      "source": [
        "#Let's write some Python code within our cell and a single line of R.\n",
        "\n",
        "# Our Python variable 'y' stores the value \"cat\".\n",
        "y = \"cat\"\n",
        "\n",
        "#Our R variable 'z' stores the value \"dog\".\n",
        "%R z = \"dog\"\n",
        "\n",
        "#One cool thing we can do in this environment is assign values from R variables to Python variables.\n",
        "\n",
        "#Let's assign \"dog\" (from R) to y (Python).\n",
        "y = %R z\n",
        "\n",
        "print(y)"
      ]
    },
    {
      "attachments": {},
      "cell_type": "markdown",
      "metadata": {
        "id": "aH1M0nNB2QoA"
      },
      "source": [
        "#### So far, so good. "
      ]
    },
    {
      "attachments": {},
      "cell_type": "markdown",
      "metadata": {
        "id": "-j2QpLP270Ut"
      },
      "source": [
        "Whenever we need some functionality for installing packages we can use the commands below:\n"
      ]
    },
    {
      "cell_type": "code",
      "execution_count": 25,
      "metadata": {
        "colab": {
          "base_uri": "https://localhost:8080/"
        },
        "id": "vHIeg0Dw28So",
        "outputId": "1cd68182-c0fa-427b-da23-7320764ed567"
      },
      "outputs": [
        {
          "name": "stdout",
          "output_type": "stream",
          "text": [
            "[1] TRUE\n"
          ]
        }
      ],
      "source": [
        "%%R\n",
        "# We can copy and paste into the quotations of this line:\n",
        "# checkForPackages<-\"<package name>\"\n",
        "# I'm going to use the example of checking for \"boot\"\n",
        "# The result should return a bool\n",
        "\n",
        "checkForPackages<-\"boot\"\n",
        "\n",
        "a<-installed.packages()\n",
        "packages<-a[,1] \n",
        "is.element(checkForPackages, packages)\n",
        "\n",
        "#You can install packages with:\n",
        "#install.package(\"<package name>\")\n",
        "\n",
        "#Remove packages with:\n",
        "#remove.package(\"<package name>\")"
      ]
    },
    {
      "attachments": {},
      "cell_type": "markdown",
      "metadata": {
        "id": "2tIbYrzoBF94"
      },
      "source": [
        "This is a work in progress. I will continue to update this on GitHub as I get time. Feel free to submit pull-requests as the project progresses."
      ]
    }
  ],
  "metadata": {
    "colab": {
      "provenance": []
    },
    "kernelspec": {
      "display_name": "Python 3",
      "name": "python3"
    },
    "language_info": {
      "name": "python",
      "version": "3.11.1"
    }
  },
  "nbformat": 4,
  "nbformat_minor": 0
}
